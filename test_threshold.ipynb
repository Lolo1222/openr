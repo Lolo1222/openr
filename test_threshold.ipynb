{
 "cells": [
  {
   "cell_type": "code",
   "execution_count": 1,
   "metadata": {},
   "outputs": [],
   "source": [
    "import os\n",
    "import sys\n",
    "import Levenshtein\n",
    "\n"
   ]
  },
  {
   "cell_type": "code",
   "execution_count": 2,
   "metadata": {},
   "outputs": [
    {
     "name": "stderr",
     "output_type": "stream",
     "text": [
      "/data1/home/jiawei/.conda/envs/open_reasonser/lib/python3.10/site-packages/tqdm/auto.py:21: TqdmWarning: IProgress not found. Please update jupyter and ipywidgets. See https://ipywidgets.readthedocs.io/en/stable/user_install.html\n",
      "  from .autonotebook import tqdm as notebook_tqdm\n"
     ]
    }
   ],
   "source": [
    "from sentence_transformers import SentenceTransformer, util\n",
    "sentences = [\"This is an example sentence\", \"Each sentence is converted\"]\n",
    "\n",
    "model = SentenceTransformer('/data2/OpenLLMs/math-similarity/Bert-MLM_arXiv-MP-class_zbMath')\n",
    "# model = SentenceTransformer('/data2/OpenLLMs/sentence-transformers/paraphrase-MiniLM-L6-v2')\n"
   ]
  },
  {
   "cell_type": "code",
   "execution_count": 3,
   "metadata": {},
   "outputs": [],
   "source": [
    "def compute_similarity(sentences_pair):\n",
    "    embeddings = model.encode(sentences_pair)\n",
    "    embedding_1= model.encode(sentences_pair[0], convert_to_tensor=True)\n",
    "    embedding_2 = model.encode(sentences_pair[1], convert_to_tensor=True)\n",
    "    return util.pytorch_cos_sim(embedding_1, embedding_2).cpu().numpy()[0][0]\n"
   ]
  },
  {
   "cell_type": "code",
   "execution_count": 26,
   "metadata": {},
   "outputs": [
    {
     "data": {
      "text/plain": [
       "(2, 384)"
      ]
     },
     "execution_count": 26,
     "metadata": {},
     "output_type": "execute_result"
    }
   ],
   "source": [
    "embeddings.shape"
   ]
  },
  {
   "cell_type": "code",
   "execution_count": 27,
   "metadata": {},
   "outputs": [],
   "source": [
    "# import json\n",
    "# import random\n",
    "\n",
    "# # 读取 train.jsonl 文件\n",
    "# with open('envs/MATH/dataset/train.jsonl', 'r', encoding='utf-8') as f:\n",
    "#     lines = f.readlines()\n",
    "\n",
    "# # 随机打乱行顺序\n",
    "# random.shuffle(lines)\n",
    "\n",
    "# # 选取前 500 行作为 for_gen.jsonl\n",
    "# for_gen_lines = lines[:500]\n",
    "\n",
    "# # 剩下的行作为 retain_train.jsonl\n",
    "# retain_train_lines = lines[500:]\n",
    "\n",
    "# # 将 for_gen_lines 写入 for_gen.jsonl 文件\n",
    "# with open('envs/MATH/dataset/for_gen.jsonl', 'w', encoding='utf-8') as f:\n",
    "#     f.writelines(for_gen_lines)\n",
    "\n",
    "# # 将 retain_train_lines 写入 retain_train.jsonl 文件\n",
    "# with open('envs/MATH/dataset/retain_train.jsonl', 'w', encoding='utf-8') as f:\n",
    "#     f.writelines(retain_train_lines)\n",
    "\n",
    "# print(\"文件分割完成！\")"
   ]
  },
  {
   "cell_type": "code",
   "execution_count": 4,
   "metadata": {},
   "outputs": [],
   "source": [
    "import re\n",
    "\n",
    "def extract_candidate_actions(log_content):\n",
    "    # 正则表达式匹配 Candidate action + 数字 的行\n",
    "    pattern = re.compile(r'Candidate action \\d: (.*)')\n",
    "    \n",
    "    # 用于存储提取的信息\n",
    "    groups = []\n",
    "    current_group = []\n",
    "    \n",
    "    for line in log_content.splitlines():\n",
    "        match = pattern.match(line)\n",
    "        if match:\n",
    "            # 如果匹配到 Candidate action 行，提取冒号后的信息\n",
    "            action_info = match.group(1)\n",
    "            current_group.append(action_info)\n",
    "        elif line.strip() == '********************************************************************************':\n",
    "            # 如果遇到分隔符，将当前组添加到 groups 中，并重置 current_group\n",
    "            if current_group:\n",
    "                groups.append(current_group)\n",
    "                current_group = []\n",
    "    \n",
    "    # 处理最后一个组\n",
    "    if current_group:\n",
    "        groups.append(current_group)\n",
    "    \n",
    "    return groups\n"
   ]
  },
  {
   "cell_type": "code",
   "execution_count": 5,
   "metadata": {},
   "outputs": [],
   "source": [
    "def read_log_file(file_path):\n",
    "    with open(file_path, 'r') as file:\n",
    "        return file.read()"
   ]
  },
  {
   "cell_type": "code",
   "execution_count": 6,
   "metadata": {},
   "outputs": [],
   "source": [
    "log_file_path=\"logs_terminal/vanila_mcts_math500.log\"\n",
    "log_content = read_log_file(log_file_path)"
   ]
  },
  {
   "cell_type": "code",
   "execution_count": 7,
   "metadata": {},
   "outputs": [
    {
     "name": "stdout",
     "output_type": "stream",
     "text": [
      "Group 1:\n",
      "{'action': 'We can use the formulas $r = \\\\sqrt{x^2 + y^2}$ and $\\\\theta = \\\\arctan \\\\left( \\\\frac{y}{x} \\\\right)$ to convert from rectangular coordinates to polar coordinates. ки\\n', 'prob': 0.25739426139958294, 'num_token': 53, 'finish_reason': 'stop'}\n",
      "{'action': 'To convert from rectangular coordinates to polar coordinates, we use the formulas $r = \\\\sqrt{x^2 + y^2}$ and $\\\\theta = \\\\arctan \\\\left( \\\\frac{y}{x} \\\\right)$. ки\\n', 'prob': 0.24839519181502717, 'num_token': 52, 'finish_reason': 'stop'}\n",
      "{'action': 'To convert from rectangular coordinates to polar coordinates, we use the formulas $r = \\\\sqrt{x^2 + y^2}$ and $\\\\theta = \\\\arctan \\\\left( \\\\frac{y}{x} \\\\right).$ ки\\n', 'prob': 0.24785813497191633, 'num_token': 53, 'finish_reason': 'stop'}\n",
      "{'action': 'To convert from rectangular coordinates to polar coordinates, we can use the formulas $r = \\\\sqrt{x^2 + y^2}$ and $\\\\theta = \\\\arctan \\\\left( \\\\frac{y}{x} \\\\right).$ ки\\n', 'prob': 0.2463524118134735, 'num_token': 54, 'finish_reason': 'stop'}\n",
      "\n",
      "Group 2:\n",
      "{'action': 'We can use the formulas $r = \\\\sqrt{x^2 + y^2}$ and $\\\\theta = \\\\arctan \\\\left( \\\\frac{y}{x} \\\\right)$ to convert from rectangular coordinates to polar coordinates. ки\\n', 'prob': 0.34536035371288365, 'num_token': 53, 'finish_reason': 'stop'}\n",
      "{'action': 'We can use the formulas $r = \\\\sqrt{x^2 + y^2}$ and $\\\\theta = \\\\arctan\\\\left(\\\\frac{y}{x}\\\\right)$ to convert from rectangular coordinates to polar coordinates. ки\\n', 'prob': 0.336010585162825, 'num_token': 51, 'finish_reason': 'stop'}\n",
      "{'action': 'We can use the formulas $r = \\\\sqrt{x^2 + y^2}$ and $\\\\theta = \\\\arctan \\\\frac{y}{x}$ to convert from rectangular coordinates to polar coordinates. ки\\n', 'prob': 0.31862906112429135, 'num_token': 47, 'finish_reason': 'stop'}\n",
      "\n",
      "Group 3:\n",
      "{'action': 'We can rewrite the double sum as ки\\n', 'prob': 0.3310552229017273, 'num_token': 10, 'finish_reason': 'stop'}\n",
      "{'action': 'Note that ки\\n', 'prob': 0.2515856895592855, 'num_token': 4, 'finish_reason': 'stop'}\n",
      "{'action': \"Let's use the Cauchy Product. ки\\n\", 'prob': 0.20568232058396294, 'num_token': 12, 'finish_reason': 'stop'}\n",
      "{'action': 'We can use the method of infinite series to simplify the given expression. ки\\n', 'prob': 0.21167676695502433, 'num_token': 17, 'finish_reason': 'stop'}\n",
      "\n",
      "Group 4:\n",
      "{'action': 'We can rewrite the double sum as ки\\n', 'prob': 0.34788801365259003, 'num_token': 10, 'finish_reason': 'stop'}\n",
      "{'action': 'We can use the Cauchy Product to rewrite the double sum as ки\\n', 'prob': 0.3079268488245638, 'num_token': 17, 'finish_reason': 'stop'}\n",
      "{'action': 'Let $S = \\\\sum_{j = 1}^\\\\infty \\\\sum_{k = 1}^\\\\infty \\\\frac{1}{(j + k)^3}.$ ки\\n', 'prob': 0.3441851375228462, 'num_token': 36, 'finish_reason': 'stop'}\n",
      "\n",
      "Group 5:\n",
      "{'action': 'To find $f(-2)$, we substitute $x=-2$ into the expression for $f(x)$:\\n$f(-2) = \\\\frac{3(-2)-2}{(-2)-2} = \\\\frac{-6}{-4} = \\\\frac{3}{2}$. ки\\n', 'prob': 0.2921591203819276, 'num_token': 64, 'finish_reason': 'stop'}\n",
      "{'action': 'We can evaluate each term separately: ки\\n', 'prob': 0.16173474216866338, 'num_token': 9, 'finish_reason': 'stop'}\n",
      "{'action': 'Step 1: To find $f(-2)$, we substitute $x=-2$ into the expression for $f(x)$:\\n$$f(-2) = \\\\frac{3(-2)-2}{-2-2} = \\\\frac{-6-2}{-4} = \\\\frac{-8}{-4} = 2.$$ ки\\n', 'prob': 0.28873294215365586, 'num_token': 76, 'finish_reason': 'stop'}\n",
      "{'action': 'We can evaluate $f(-2)$ by plugging in $x=-2$ into the equation:\\n\\\\[f(-2) = \\\\frac{3(-2)-2}{-2-2} = \\\\frac{-6-2}{-4} = \\\\frac{-8}{-4} = 2.\\\\] ки\\n', 'prob': 0.2573731952957532, 'num_token': 69, 'finish_reason': 'stop'}\n",
      "\n",
      "Group 6:\n",
      "{'action': 'We can substitute $x=-2$, $x=-1$, and $x=0$ into the expression for $f(x)$ to find $f(-2)$, $f(-1)$, and $f(0)$, respectively. ки\\n', 'prob': 0.25562747993979024, 'num_token': 50, 'finish_reason': 'stop'}\n",
      "{'action': 'To find $f(-2)$, we substitute $x=-2$ into the expression for $f(x)$:\\n$f(-2) = \\\\frac{3(-2)-2}{-2-2} = \\\\frac{-6-2}{-4} = \\\\frac{-8}{-4} = 2$. ки\\n', 'prob': 0.26236015836817994, 'num_token': 71, 'finish_reason': 'stop'}\n",
      "{'action': 'We can substitute $-2$, $-1$, and $0$ into the expression for $f(x)$ to find the values of $f(-2)$, $f(-1)$, and $f(0)$ respectively. ки\\n', 'prob': 0.235330631834518, 'num_token': 47, 'finish_reason': 'stop'}\n",
      "{'action': 'First, we find $f(-2)$ by plugging $-2$ into the function:\\n$f(-2) = \\\\frac{3(-2)-2}{-2-2} = \\\\frac{-6-2}{-4} = \\\\frac{-8}{-4} = 2$. ки\\n', 'prob': 0.2466817298575118, 'num_token': 66, 'finish_reason': 'stop'}\n",
      "\n"
     ]
    }
   ],
   "source": [
    "# 提取信息\n",
    "groups = extract_candidate_actions(log_content)\n",
    "\n",
    "# 打印结果\n",
    "for i, group in enumerate(groups):\n",
    "    if i > 5:\n",
    "        break\n",
    "    print(f\"Group {i+1}:\")\n",
    "    for action in group:\n",
    "        print(action)\n",
    "    print()\n"
   ]
  },
  {
   "cell_type": "code",
   "execution_count": 9,
   "metadata": {},
   "outputs": [
    {
     "name": "stdout",
     "output_type": "stream",
     "text": [
      "{'组号': 1, '平均相似度': 0.9928252, '最大相似度': 0.9998011, '最小相似度': 0.9898933, '相似度标准差': 0.0034404902}\n",
      "{'组号': 2, '平均相似度': 0.98817253, '最大相似度': 1.0000001, '最小相似度': 0.9822587, '相似度标准差': 0.008363396}\n",
      "{'组号': 3, '平均相似度': 0.5680475, '最大相似度': 0.7986666, '最小相似度': 0.22002785, '相似度标准差': 0.21750563}\n",
      "{'组号': 4, '平均相似度': 0.9083789, '最大相似度': 0.98200315, '最小相似度': 0.8614379, '相似度标准差': 0.052713}\n",
      "{'组号': 5, '平均相似度': 0.79483134, '最大相似度': 0.9774318, '最小相似度': 0.6057078, '相似度标准差': 0.17773308}\n",
      "{'组号': 6, '平均相似度': 0.9336293, '最大相似度': 0.9869937, '最小相似度': 0.8859408, '相似度标准差': 0.035924952}\n"
     ]
    }
   ],
   "source": [
    "from Levenshtein import ratio\n",
    "\n",
    "def calculate_levenshtein_ratios(group):\n",
    "    \"\"\"计算组内所有action之间的Levenshtein比率\"\"\"\n",
    "    import ast\n",
    "    ratios = []\n",
    "    \n",
    "    # 将字符串形式的字典转换为实际的字典对象\n",
    "    actions = []\n",
    "    for item in group:\n",
    "        try:\n",
    "            action_dict = ast.literal_eval(item)\n",
    "            actions.append(action_dict['action'])\n",
    "        except:\n",
    "            continue\n",
    "            \n",
    "    # 计算每对action之间的比率\n",
    "    for i in range(len(actions)):\n",
    "        for j in range(i+1, len(actions)):\n",
    "            # r = ratio(actions[i], actions[j])\n",
    "            r = compute_similarity([actions[i], actions[j]])\n",
    "            ratios.append(r)\n",
    "            \n",
    "    return ratios\n",
    "\n",
    "# 为每个组计算比率\n",
    "group_ratios_list = []\n",
    "for i, group in enumerate(groups):\n",
    "    if i > 5:\n",
    "        break\n",
    "    group_ratios = calculate_levenshtein_ratios(group)\n",
    "    group_ratios_list.append(group_ratios)\n",
    "    \n",
    "# 计算每个组的统计信息并存储在变量中\n",
    "import numpy as np\n",
    "group_statistics = []\n",
    "\n",
    "for idx, group_ratios in enumerate(group_ratios_list):\n",
    "    if idx > 5:\n",
    "        break\n",
    "    group_stat = {}\n",
    "    group_stat[\"组号\"] = idx + 1\n",
    "    if group_ratios:\n",
    "        group_stat[\"平均相似度\"] = np.mean(group_ratios)\n",
    "        group_stat[\"最大相似度\"] = np.max(group_ratios)\n",
    "        group_stat[\"最小相似度\"] = np.min(group_ratios)\n",
    "        group_stat[\"相似度标准差\"] = np.std(group_ratios)\n",
    "    else:\n",
    "        group_stat[\"无法计算相似度\"] = \"组内action不足\"\n",
    "    group_statistics.append(group_stat)\n",
    "\n",
    "# 打印统计信息\n",
    "for stat in group_statistics:\n",
    "    print(stat)\n"
   ]
  },
  {
   "cell_type": "code",
   "execution_count": 13,
   "metadata": {},
   "outputs": [
    {
     "name": "stdout",
     "output_type": "stream",
     "text": [
      "[0.99027205, 0.9898933, 0.99032855, 0.9998011, 0.9938306, 0.9928255]\n",
      "[1.0000001, 0.9822587, 0.9822587]\n",
      "[0.31996503, 0.71736205, 0.7986666, 0.71037513, 0.22002785, 0.6418884]\n",
      "[0.98200315, 0.8816957, 0.8614379]\n",
      "[0.6057078, 0.9774318, 0.9728621, 0.6335184, 0.6127383, 0.9667295]\n",
      "[0.9186898, 0.9709877, 0.9370198, 0.8859408, 0.9869937, 0.9021439]\n"
     ]
    }
   ],
   "source": [
    "for i in range(6):\n",
    "    print(group_ratios_list[i])"
   ]
  },
  {
   "cell_type": "code",
   "execution_count": 12,
   "metadata": {},
   "outputs": [
    {
     "data": {
      "text/plain": [
       "[{'组号': 1,\n",
       "  '平均相似度': 0.9928252,\n",
       "  '最大相似度': 0.9998011,\n",
       "  '最小相似度': 0.9898933,\n",
       "  '相似度标准差': 0.0034404902},\n",
       " {'组号': 2,\n",
       "  '平均相似度': 0.98817253,\n",
       "  '最大相似度': 1.0000001,\n",
       "  '最小相似度': 0.9822587,\n",
       "  '相似度标准差': 0.008363396},\n",
       " {'组号': 3,\n",
       "  '平均相似度': 0.5680475,\n",
       "  '最大相似度': 0.7986666,\n",
       "  '最小相似度': 0.22002785,\n",
       "  '相似度标准差': 0.21750563},\n",
       " {'组号': 4,\n",
       "  '平均相似度': 0.9083789,\n",
       "  '最大相似度': 0.98200315,\n",
       "  '最小相似度': 0.8614379,\n",
       "  '相似度标准差': 0.052713},\n",
       " {'组号': 5,\n",
       "  '平均相似度': 0.79483134,\n",
       "  '最大相似度': 0.9774318,\n",
       "  '最小相似度': 0.6057078,\n",
       "  '相似度标准差': 0.17773308}]"
      ]
     },
     "execution_count": 12,
     "metadata": {},
     "output_type": "execute_result"
    }
   ],
   "source": [
    "group_statistics[:5]"
   ]
  },
  {
   "cell_type": "code",
   "execution_count": null,
   "metadata": {},
   "outputs": [],
   "source": []
  },
  {
   "cell_type": "code",
   "execution_count": null,
   "metadata": {},
   "outputs": [],
   "source": []
  },
  {
   "cell_type": "code",
   "execution_count": 10,
   "metadata": {},
   "outputs": [
    {
     "data": {
      "text/plain": [
       "[0.6230529595015577, 0.6168224299065421]"
      ]
     },
     "execution_count": 10,
     "metadata": {},
     "output_type": "execute_result"
    }
   ],
   "source": [
    "all_ratios[:2]"
   ]
  }
 ],
 "metadata": {
  "kernelspec": {
   "display_name": "open_reasonser",
   "language": "python",
   "name": "python3"
  },
  "language_info": {
   "codemirror_mode": {
    "name": "ipython",
    "version": 3
   },
   "file_extension": ".py",
   "mimetype": "text/x-python",
   "name": "python",
   "nbconvert_exporter": "python",
   "pygments_lexer": "ipython3",
   "version": "3.10.15"
  }
 },
 "nbformat": 4,
 "nbformat_minor": 2
}
